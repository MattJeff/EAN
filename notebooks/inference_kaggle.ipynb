{
 "cells": [
  {
   "cell_type": "markdown",
   "metadata": {},
   "source": [
    "# HyperCubeX-EAN – Kaggle Inference Notebook\n",
    "This notebook runs inference **offline** using the lightweight transformation-mapping model (\\< 100 kB) and produces a `submission.json` compatible with the ARC Prize 2025 rules (two attempts per test case)."
   ]
  },
  {
   "cell_type": "code",
   "execution_count": null,
   "metadata": {},
   "outputs": [],
   "source": [
    "# Install project dependencies (already present on Kaggle by default for numpy & torch)\n",
    "!pip install -q -r ../requirements.txt"
   ]
  },
  {
   "cell_type": "code",
   "execution_count": null,
   "metadata": {},
   "outputs": [],
   "source": [
    "import json, os, pathlib, subprocess, sys, numpy as np\n",
    "\n",
    "# Paths ------------------------------------------------------------\n",
    "PROJECT_DIR = pathlib.Path('..').resolve()\n",
    "DATA_DIR = pathlib.Path('../data/evaluation').resolve()  # adjust if dataset path differs\n",
    "OUTPUT_PATH = pathlib.Path('submission.json')\n",
    "\n",
    "# Build single challenges file expected by arc_submission.py\n",
    "combined = {}\n",
    "for p in DATA_DIR.glob('*.json'):\n",
    "    combined[p.stem] = json.loads(p.read_text())\n",
    "tmp_challenges = pathlib.Path('challenges.json')\n",
    "tmp_challenges.write_text(json.dumps(combined))\n",
    "\n",
    "# Run submission script -------------------------------------------\n",
    "subprocess.run([sys.executable, str(PROJECT_DIR / 'arc_submission.py'), '--challenges', str(tmp_challenges), '--output', str(OUTPUT_PATH)], check=True)\n",
    "print(f'Submission saved to {OUTPUT_PATH}')"
   ]
  },
  {
   "cell_type": "code",
   "execution_count": null,
   "metadata": {},
   "outputs": [],
   "source": [
    "# Display first grid from first evaluation task & submission size\n",
    "first_task_id = next(iter(combined))\n",
    "grid = np.array(combined[first_task_id]['train'][0]['input'])\n",
    "print('Sample input grid:')\n",
    "print(grid)\n",
    "print('-' * 40)\n",
    "print('submission.json size:', OUTPUT_PATH.stat().st_size / 1024, 'KB')"
   ]
  }
 ],
 "metadata": {
  "kernelspec": {
   "display_name": "Python 3",
   "language": "python",
   "name": "python3"
  },
  "language_info": {
   "name": "python",
   "version": "3.11"
  }
 },
 "nbformat": 4,
 "nbformat_minor": 5
}
