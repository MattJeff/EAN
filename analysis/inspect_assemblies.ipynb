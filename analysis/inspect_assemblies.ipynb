{
 "cells": [
  {
   "cell_type": "markdown",
   "metadata": {},
   "source": [
    "# Assembly Store Inspection\n",
    "Explore saved assemblies interactively. Use the widgets below to filter by strength or index."
   ]
  },
  {
   "cell_type": "code",
   "execution_count": null,
   "metadata": {},
   "outputs": [],
   "source": [
    "from pathlib import Path\n",
    "import matplotlib.pyplot as plt\n",
    "import numpy as np\n",
    "import ipywidgets as widgets  # type: ignore\n",
    "\n",
    "from hx_core.assemblies import AssemblyStore\n",
    "from analysis.dump_assemblies import _frequency_map\n",
    "\n",
    "store_path = Path('weights/assemblies.json')\n",
    "store = AssemblyStore.load(store_path)\n",
    "print(f'Loaded {len(store)} assemblies from {store_path}')"
   ]
  },
  {
   "cell_type": "code",
   "execution_count": null,
   "metadata": {},
   "outputs": [],
   "source": [
    "strength_slider = widgets.FloatRangeSlider(value=[0.0, 1.0], min=0.0, max=1.0, step=0.05,\n",
    "                                            description='Strength range')\n",
    "display(strength_slider)\n",
    "\n",
    "def plot_heatmap(strength_range):\n",
    "    selected = [a for a in store if strength_range[0] <= a.strength <= strength_range[1]]\n",
    "    if not selected:\n",
    "        print('No assemblies in range')\n",
    "        return\n",
    "    freq = _frequency_map(AssemblyStore.from_iter(selected), (30, 30))\n",
    "    plt.imshow(freq, cmap='viridis')\n",
    "    plt.colorbar()\n",
    "    plt.title(f'Frequency map (n={len(selected)})')\n",
    "\n",
    "widgets.interact(plot_heatmap, strength_range=strength_slider)"
   ]
  }
 ],
 "metadata": {
  "kernelspec": {
   "display_name": "Python 3",
   "language": "python",
   "name": "python3"
  },
  "language_info": {
   "name": "python",
   "pygments_lexer": "ipython3"
  }
 },
 "nbformat": 4,
 "nbformat_minor": 5
}
